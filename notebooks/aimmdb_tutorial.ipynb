{
 "cells": [
  {
   "cell_type": "markdown",
   "id": "6cbca8df-199c-4a3e-8893-537c52e15687",
   "metadata": {},
   "source": [
    "## Connect to the AIMMdb server"
   ]
  },
  {
   "cell_type": "code",
   "execution_count": null,
   "id": "9d7e49e1-e300-4a5b-817b-907c5845153b",
   "metadata": {},
   "outputs": [],
   "source": [
    "from tiled.client import from_uri"
   ]
  },
  {
   "cell_type": "code",
   "execution_count": null,
   "id": "b582fc42-4c1e-4317-bff0-9687aaf29a21",
   "metadata": {},
   "outputs": [],
   "source": [
    "c = from_uri(\"https://aimm.lbl.gov/api\")\n",
    "c # Only 4 datasets can be seen while requesting data with public access"
   ]
  },
  {
   "cell_type": "code",
   "execution_count": null,
   "id": "bc857ecb-4e40-471b-afb8-85b871d7df42",
   "metadata": {},
   "outputs": [],
   "source": [
    "# Public datasets should let public users see the data\n",
    "c['nmc_sim']"
   ]
  },
  {
   "cell_type": "code",
   "execution_count": null,
   "id": "e0567cf3-b652-4dc6-8a38-7c6d5ad401b1",
   "metadata": {},
   "outputs": [],
   "source": [
    "# To have access to private datasets, authorized users must login first\n",
    "c.login()"
   ]
  },
  {
   "cell_type": "code",
   "execution_count": null,
   "id": "d1a1e441-735f-41ec-ab4e-94c7ccd9f746",
   "metadata": {},
   "outputs": [],
   "source": [
    "list(c) # Once user has logged in, more datasets are available"
   ]
  },
  {
   "cell_type": "markdown",
   "id": "a0bdad14-b489-43cc-ac5b-84ea67540cc9",
   "metadata": {},
   "source": [
    "## Find data and metadata"
   ]
  },
  {
   "cell_type": "code",
   "execution_count": null,
   "id": "36886619-5e92-4fad-9a45-305ef3571ca4",
   "metadata": {},
   "outputs": [],
   "source": [
    "#Total of samples in NMC\n",
    "c['nmc']"
   ]
  },
  {
   "cell_type": "code",
   "execution_count": null,
   "id": "f8f5a99f-9c81-4e64-82c3-3b15192cb2cf",
   "metadata": {},
   "outputs": [],
   "source": [
    "df = c['nmc']['WwFMvg92n23'].read() # We can read the data in any child node by calling its uid\n",
    "df # At this point, the user obtains a pandas dataframe, a more familiar data structure"
   ]
  },
  {
   "cell_type": "code",
   "execution_count": null,
   "id": "bfa25b9b-887c-45ed-aa04-7f925dd60d11",
   "metadata": {},
   "outputs": [],
   "source": [
    "c['nmc']['WwFMvg92n23'].metadata # We can learn more about this data by reading the metadata in this node"
   ]
  },
  {
   "cell_type": "code",
   "execution_count": null,
   "id": "b01e8a72-340f-477d-8e84-93d814c28829",
   "metadata": {},
   "outputs": [],
   "source": [
    "# Iterate through a collection of data. You can pick from these options: .items(), .keys(), .values()\n",
    "c['nmc'].values()[3]"
   ]
  },
  {
   "cell_type": "code",
   "execution_count": null,
   "id": "32f08dac-e57d-4bfd-aba5-6a7768eeba01",
   "metadata": {},
   "outputs": [],
   "source": [
    "for key, value in c['nmc'].items():\n",
    "    # This would be a typical approach in python while attempting to filter data based on some information in the metadata.\n",
    "    # This could involve multiple calls to the server\n",
    "    # A more optimal approach is shown later in the document involving search()\n",
    "    if value.metadata['element']['symbol'] == 'O' and value.metadata['element']['edge'] == 'K':\n",
    "        print(f\"{key}: {value}\")"
   ]
  },
  {
   "cell_type": "code",
   "execution_count": null,
   "id": "9f2147de-1168-403b-a60b-11e95aa25ab0",
   "metadata": {},
   "outputs": [],
   "source": [
    "# Using distinct in a dataset allows you to find all the possible values that a specific key could take\n",
    "c['nmc'].distinct(\"facility.name\", counts=True)"
   ]
  },
  {
   "cell_type": "code",
   "execution_count": null,
   "id": "b5747312-4831-4a06-b84f-38a5f21bb028",
   "metadata": {},
   "outputs": [],
   "source": [
    "from tiled.queries import Key"
   ]
  },
  {
   "cell_type": "code",
   "execution_count": null,
   "id": "74323e59-446c-45f2-bbdd-3b19e1fde28f",
   "metadata": {},
   "outputs": [],
   "source": [
    "# You can request the server to return some data of interest based on information in the metadata.\n",
    "# This allows to optimize the call from the client and inmprove the perfgormance.\n",
    "# Nested search calls are allowed. The client will not send multiple queries to the server. \n",
    "# Instead, it recognizes the chain of search calls and builds one query with the correct filters.\n",
    "c['nmc'].search(Key(\"element.symbol\") == \"Co\").search(Key(\"facility.name\") == \"NSLS-II\")"
   ]
  },
  {
   "cell_type": "code",
   "execution_count": null,
   "id": "acd61da7-8fdf-47f1-a658-9c9f6365e196",
   "metadata": {},
   "outputs": [],
   "source": [
    "element_list = [\"Co\", \"Mn\", \"Ni\"]"
   ]
  },
  {
   "cell_type": "code",
   "execution_count": null,
   "id": "60c9b6e5-34d3-4d7e-9ae0-18e8112032f8",
   "metadata": {},
   "outputs": [],
   "source": [
    "from matplotlib import pyplot as plt"
   ]
  },
  {
   "cell_type": "code",
   "execution_count": null,
   "id": "8cd4706b-88af-4c34-987e-e7f99f16e380",
   "metadata": {},
   "outputs": [],
   "source": [
    "# We can use the search() method  to filter out experiments with very specific features in a dataset. \n",
    "# In this case, we ask tiled to find experiments using Co, Mn and Ni elements that are part of od the NCM622 sample,\n",
    "# have a charge cycle value of 1, have a charge voltage value of 4.8 and were generated by ALS \n",
    "als_dfs = {}\n",
    "als_metadata = {}\n",
    "for element in  element_list:\n",
    "    als_data = c['nmc'].search(Key(\"sample.name\") == \"NCM622\").search(\n",
    "        Key(\"element.symbol\") == element).search(Key(\"charge.cycle\") == 1).search(\n",
    "        Key(\"charge.voltage\") == 4.8).search(Key(\"facility.name\") == \"ALS\").values().first()\n",
    "    als_dfs[element] = als_data.read()\n",
    "    als_metadata[element] = als_data.metadata\n",
    "\n",
    "counter = 0\n",
    "fig_als, ax_als = plt.subplots(1,3, figsize=(15, 4))\n",
    "for key, df in als_dfs.items():\n",
    "    if key == \"Mn\":\n",
    "        ax_als[counter].plot(als_dfs[key][\"energy\"], als_dfs[key][\"normfluor\"], label=als_metadata[key][\"element\"][\"symbol\"])\n",
    "        ax_als[counter].set(xlabel='energy', ylabel='normfluor')\n",
    "    else:\n",
    "        ax_als[counter].plot(als_dfs[key][\"energy\"], als_dfs[key][\"mu_tfy\"], label=als_metadata[key][\"element\"][\"symbol\"])\n",
    "        ax_als[counter].set(xlabel='energy', ylabel='mu_tfy')\n",
    "    ax_als[counter].legend()\n",
    "    counter += 1\n",
    "plt.show()"
   ]
  },
  {
   "cell_type": "code",
   "execution_count": null,
   "id": "49d02eb1-e729-4756-8504-be81dd1ec0ac",
   "metadata": {},
   "outputs": [],
   "source": [
    "# A similar search but for APS data\n",
    "aps_dfs = {}\n",
    "aps_metadata = {}\n",
    "for element in  element_list:\n",
    "    aps_data = c['nmc'].search(Key(\"sample.name\") == \"NCM622\").search(\n",
    "        Key(\"element.symbol\") == element).search(Key(\"charge.cycle\") == 1).search(\n",
    "        Key(\"charge.voltage\") == 4.8).search(Key(\"facility.name\") == \"APS\").values().first()\n",
    "    aps_dfs[element] = aps_data.read()\n",
    "    aps_metadata[element] = aps_data.metadata\n",
    "\n",
    "counter = 0\n",
    "fig_aps, ax_aps = plt.subplots(1,3, figsize=(15, 4))\n",
    "for key, df in aps_dfs.items():\n",
    "    ax_aps[counter].plot(aps_dfs[key][\"energy\"], aps_dfs[key][\"mutrans\"], label=aps_metadata[key][\"element\"][\"symbol\"])\n",
    "    ax_aps[counter].set(xlabel='energy', ylabel='mutrans')\n",
    "    ax_aps[counter].legend()\n",
    "    counter += 1\n",
    "plt.show()"
   ]
  },
  {
   "cell_type": "code",
   "execution_count": null,
   "id": "44b7d7ad-b585-4cfd-95f6-7f0af411ed8d",
   "metadata": {},
   "outputs": [],
   "source": [
    "# A similar search but for NSLS-II data\n",
    "nslsii_dfs = {}\n",
    "nslsii_metadata = {}\n",
    "for element in  element_list:\n",
    "    nslsii_data = c['nmc'].search(Key(\"sample.name\") == \"NCM622\").search(\n",
    "        Key(\"element.symbol\") == element).search(Key(\"charge.cycle\") == 1).search(\n",
    "        Key(\"charge.voltage\") == 4.8).search(Key(\"facility.name\") == \"NSLS-II\").values().first()\n",
    "    nslsii_dfs[element] = nslsii_data.read()\n",
    "    nslsii_metadata[element] = nslsii_data.metadata\n",
    "    \n",
    "counter = 0\n",
    "fig_nslsii, ax_nslsii = plt.subplots(1,3, figsize=(15, 4))\n",
    "for key, df in nslsii_dfs.items():\n",
    "    ax_nslsii[counter].plot(nslsii_dfs[key][\"energy\"], nslsii_dfs[key][\"mutrans\"], label=nslsii_metadata[key][\"element\"][\"symbol\"])\n",
    "    ax_nslsii[counter].set(xlabel='energy', ylabel='mutrans')\n",
    "    ax_nslsii[counter].legend()\n",
    "    counter += 1\n",
    "plt.show()"
   ]
  },
  {
   "cell_type": "code",
   "execution_count": null,
   "id": "24f922bd-9ae6-4dca-913e-19ad1acf11f6",
   "metadata": {},
   "outputs": [],
   "source": [
    "# In a similar take, we can use this data to analyze a material with the same features across the three facilities\n",
    "\n",
    "fig_element, ax_element = plt.subplots(1,3, figsize=(15, 4))\n",
    "\n",
    "counter = 0\n",
    "for key in nslsii_dfs.keys():\n",
    "    if key == \"Mn\":\n",
    "        ax_element[counter].plot(als_dfs[key][\"energy\"], als_dfs[key][\"normfluor\"], label=\"ALS\")\n",
    "    else:\n",
    "        ax_element[counter].plot(als_dfs[key][\"energy\"], als_dfs[key][\"mu_tfy\"], label=\"ALS\")\n",
    "    \n",
    "    ax_element[counter].plot(aps_dfs[key][\"energy\"], aps_dfs[key][\"mutrans\"], label=\"APS\")\n",
    "    ax_element[counter].plot(nslsii_dfs[key][\"energy\"], nslsii_dfs[key][\"mutrans\"], label=\"NSLS-II\")\n",
    "    ax_element[counter].set(title=key)\n",
    "    \n",
    "    ax_element[counter].legend()\n",
    "    counter += 1\n",
    "plt.show()"
   ]
  },
  {
   "cell_type": "markdown",
   "id": "4feafb67-d941-4007-add4-12de5e6c0cee",
   "metadata": {},
   "source": [
    "## Share data with collaboration"
   ]
  },
  {
   "cell_type": "code",
   "execution_count": null,
   "id": "4b591d33-8766-4b81-95d6-244fa1768c15",
   "metadata": {},
   "outputs": [],
   "source": [
    "import pandas as pd"
   ]
  },
  {
   "cell_type": "code",
   "execution_count": null,
   "id": "d3614c46-b521-4f83-8cf4-10c123ca73eb",
   "metadata": {},
   "outputs": [],
   "source": [
    "# Sometimes, the user might need to add new data to aimmdb. If the user has writing permissions they can follow the next steps\n",
    "\n",
    "# Let's create some sample data first\n",
    "data = {\"node_id\": [1, 2, 3],\n",
    "       \"probability\": [0.2, 0.7, 0.1]}\n",
    "df = pd.DataFrame(data)\n",
    "\n",
    "metadata = {\"dataset\": \"demo\",\n",
    "            \"element\": {\"edge\": \"K\", \"symbol\": \"Ni\"},\n",
    "            \"facility\": \"NSLS-II\",\n",
    "           }"
   ]
  },
  {
   "cell_type": "code",
   "execution_count": null,
   "id": "059b08d4-121a-4ef9-bbe5-1b31efdda96e",
   "metadata": {},
   "outputs": [],
   "source": [
    "# We might need to save it in a dataset apart from the existing one.\n",
    "# This would require to start a new dataset by creating a new container with tiled\n",
    "c.create_container(key='demo')"
   ]
  },
  {
   "cell_type": "code",
   "execution_count": null,
   "id": "a6058d35-c3a2-4e2b-8a6c-ec7fb6051734",
   "metadata": {},
   "outputs": [],
   "source": [
    "# The new data is written inside the new container\n",
    "df_node = c['demo'].write_dataframe(df, metadata=metadata)\n",
    "df_node"
   ]
  },
  {
   "cell_type": "code",
   "execution_count": null,
   "id": "e74426c8-851c-4f3d-ab4c-411af49acea6",
   "metadata": {},
   "outputs": [],
   "source": [
    "# We can confirm that the new data is in aimmdb now\n",
    "node_id = df_node.item[\"id\"]\n",
    "c['demo'][node_id]"
   ]
  },
  {
   "cell_type": "code",
   "execution_count": null,
   "id": "c2726267-a00b-41db-a5f6-439199af079c",
   "metadata": {},
   "outputs": [],
   "source": [
    "# Also, the new dataset should be visible from the root node\n",
    "list(c)"
   ]
  },
  {
   "cell_type": "code",
   "execution_count": null,
   "id": "2f086a34-3a23-4079-90e5-7b89ea0159c4",
   "metadata": {},
   "outputs": [],
   "source": [
    "# If necessary, users can download their data. Most common file formats are available\n",
    "c['demo'][node_id].export(\"demo.csv\")\n",
    "c['demo'][node_id].export(\"demo.json\")\n",
    "c['demo'][node_id].export(\"demo.txt\")"
   ]
  },
  {
   "cell_type": "code",
   "execution_count": null,
   "id": "b76f4fc9-0e52-4c04-aafd-be3d62cb867f",
   "metadata": {},
   "outputs": [],
   "source": [
    "# If there is data that is not needed anymore, we can delete it.\n",
    "# In this case, we are removing the demo data that we just created and leaving aimmdb the way we found it\n",
    "c['demo'].delete(node_id)\n",
    "c['demo']"
   ]
  },
  {
   "cell_type": "code",
   "execution_count": null,
   "id": "4701ddc5-72e4-4044-8a44-3170c7a46371",
   "metadata": {},
   "outputs": [],
   "source": [
    "# We can delete the demo dataset, too.\n",
    "c.delete('demo')\n",
    "list(c)"
   ]
  }
 ],
 "metadata": {
  "kernelspec": {
   "display_name": "Python 3 (ipykernel)",
   "language": "python",
   "name": "python3"
  },
  "language_info": {
   "codemirror_mode": {
    "name": "ipython",
    "version": 3
   },
   "file_extension": ".py",
   "mimetype": "text/x-python",
   "name": "python",
   "nbconvert_exporter": "python",
   "pygments_lexer": "ipython3",
   "version": "3.11.5"
  }
 },
 "nbformat": 4,
 "nbformat_minor": 5
}
